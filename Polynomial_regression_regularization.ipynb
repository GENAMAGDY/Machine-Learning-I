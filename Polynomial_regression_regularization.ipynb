{
  "nbformat": 4,
  "nbformat_minor": 0,
  "metadata": {
    "kernelspec": {
      "display_name": "Python 3",
      "language": "python",
      "name": "python3"
    },
    "language_info": {
      "codemirror_mode": {
        "name": "ipython",
        "version": 3
      },
      "file_extension": ".py",
      "mimetype": "text/x-python",
      "name": "python",
      "nbconvert_exporter": "python",
      "pygments_lexer": "ipython3",
      "version": "3.7.6"
    },
    "colab": {
      "name": "Copy of Polynomial_regression_regularization.ipynb",
      "provenance": [],
      "collapsed_sections": []
    }
  },
  "cells": [
    {
      "cell_type": "markdown",
      "metadata": {
        "id": "eyjewtSBMA95"
      },
      "source": [
        "# Testing and regularization"
      ]
    },
    {
      "cell_type": "code",
      "metadata": {
        "id": "y_RXtj1eMCb3",
        "colab": {
          "base_uri": "https://localhost:8080/"
        },
        "outputId": "3231c50a-cc9f-4066-e479-20c279da12ce"
      },
      "source": [
        "!git clone https://github.com/s7s/machine_learning_1.git\n",
        "%cd  machine_learning_1/polynomial_regression"
      ],
      "execution_count": 1,
      "outputs": [
        {
          "output_type": "stream",
          "text": [
            "Cloning into 'machine_learning_1'...\n",
            "remote: Enumerating objects: 109, done.\u001b[K\n",
            "remote: Counting objects: 100% (109/109), done.\u001b[K\n",
            "remote: Compressing objects: 100% (79/79), done.\u001b[K\n",
            "remote: Total 109 (delta 42), reused 94 (delta 27), pack-reused 0\u001b[K\n",
            "Receiving objects: 100% (109/109), 33.19 MiB | 22.00 MiB/s, done.\n",
            "Resolving deltas: 100% (42/42), done.\n",
            "/content/machine_learning_1/polynomial_regression\n"
          ],
          "name": "stdout"
        }
      ]
    },
    {
      "cell_type": "code",
      "metadata": {
        "id": "YpX56PtFMA-A"
      },
      "source": [
        "import pandas as pd\n",
        "import numpy as np\n",
        "import random\n",
        "import matplotlib.pyplot as plt\n",
        "random.seed(0)"
      ],
      "execution_count": 2,
      "outputs": []
    },
    {
      "cell_type": "markdown",
      "metadata": {
        "id": "WBD0ZY2wMA-B"
      },
      "source": [
        "## Defining our dataset"
      ]
    },
    {
      "cell_type": "code",
      "metadata": {
        "id": "4sDgbZNRMA-C",
        "colab": {
          "base_uri": "https://localhost:8080/",
          "height": 269
        },
        "outputId": "ffc7a0ab-8d4e-49e3-a0d1-d276318ad818"
      },
      "source": [
        "# Our original polynomial is -x^2+x+15\n",
        "coefs = [15,1,-1]\n",
        "\n",
        "def polynomial(coefs, x):\n",
        "    n = len(coefs)\n",
        "    return sum([coefs[i]*x**i for i in range(n)])\n",
        "\n",
        "def draw_polynomial(coefs):\n",
        "    n = len(coefs)\n",
        "    x = np.linspace(-5, 5, 1000)\n",
        "    plt.ylim(-20,20)\n",
        "    plt.plot(x, sum([coefs[i]*x**i for i in range(n)]), linestyle='-', color='black')\n",
        "\n",
        "draw_polynomial(coefs)"
      ],
      "execution_count": 3,
      "outputs": [
        {
          "output_type": "display_data",
          "data": {
            "image/png": "[encoded data removed]",
            "text/plain": [
              "<Figure size 432x288 with 1 Axes>"
            ]
          },
          "metadata": {
            "tags": [],
            "needs_background": "light"
          }
        }
      ]
    },
    {
      "cell_type": "code",
      "metadata": {
        "id": "WvGqHRFCMA-E"
      },
      "source": [
        "X = []\n",
        "Y = []\n",
        "for i in range(40):\n",
        "    x = random.uniform(-5,5)\n",
        "    y = polynomial(coefs, x) + random.gauss(0,2)\n",
        "    X.append(x)\n",
        "    Y.append(y)\n",
        "X=np.array(X)\n",
        "Y=np.array(Y)"
      ],
      "execution_count": 4,
      "outputs": []
    },
    {
      "cell_type": "code",
      "metadata": {
        "id": "ETQxgGiFMA-E",
        "colab": {
          "base_uri": "https://localhost:8080/",
          "height": 282
        },
        "outputId": "7e5ec1a1-749f-4964-919b-5f85c26ac24d"
      },
      "source": [
        "plt.scatter(X, Y)\n",
        "#draw_polynomial(coefs)"
      ],
      "execution_count": 5,
      "outputs": [
        {
          "output_type": "execute_result",
          "data": {
            "text/plain": [
              "<matplotlib.collections.PathCollection at 0x7f458c0f3cd0>"
            ]
          },
          "metadata": {
            "tags": []
          },
          "execution_count": 5
        },
        {
          "output_type": "display_data",
          "data": {
            "image/png": "[encoded data removed]",
            "text/plain": [
              "<Figure size 432x288 with 1 Axes>"
            ]
          },
          "metadata": {
            "tags": [],
            "needs_background": "light"
          }
        }
      ]
    },
    {
      "cell_type": "markdown",
      "metadata": {
        "id": "wLUfmV9iMA-F"
      },
      "source": [
        "## Training a polynomial regression model"
      ]
    },
    {
      "cell_type": "code",
      "metadata": {
        "id": "xsNmJ6hoGPjb",
        "colab": {
          "base_uri": "https://localhost:8080/"
        },
        "outputId": "ade43001-a4b9-40bc-dd0d-cc92e3f33257"
      },
      "source": [
        "for datasample in zip(X,Y):\n",
        "    print(datasample)"
      ],
      "execution_count": 6,
      "outputs": [
        {
          "output_type": "stream",
          "text": [
            "(3.4442185152504816, 6.685961311021467)\n",
            "(-2.4108324970703663, 4.690236225597948)\n",
            "(0.11274721368608542, 12.205789026637378)\n",
            "(-1.9668727392107255, 11.133217991032268)\n",
            "(-0.23403045847644144, 10.927272159051856)\n",
            "(0.046868558173902564, 12.8584762866286)\n",
            "(-2.1816215560029617, 8.16012255928749)\n",
            "(-2.4949365863755943, 3.5061587527226514)\n",
            "(4.097462559682402, 5.933186396721837)\n",
            "(4.021659504395828, 2.454299054753137)\n",
            "(-1.8985243068066735, 8.956020414039855)\n",
            "(1.8398393191544127, 9.208004401915796)\n",
            "(-0.2785728454728664, 16.36505651355184)\n",
            "(1.1088697344380165, 16.14144978027318)\n",
            "(4.130110532378982, 4.299534274468492)\n",
            "(3.6530992777164, 4.83366913200435)\n",
            "(-2.395076896080406, 7.723543125251446)\n",
            "(-4.8595829983598104, -15.848718674227753)\n",
            "(2.1970468640395415, 9.366124268570305)\n",
            "(1.6815320123185087, 16.070558182542374)\n",
            "(-4.988571806855717, -18.893035332565795)\n",
            "(-2.5608912311286804, 6.043189895391749)\n",
            "(-1.7479563725260991, 11.091071520573042)\n",
            "(0.6751074062067186, 14.272553413210698)\n",
            "(-2.6138407138477984, 9.085321805751548)\n",
            "(-0.5203042856442961, 13.47860807272069)\n",
            "(-4.195541814474646, -7.812998091307244)\n",
            "(4.3283382422690675, 2.748647759010411)\n",
            "(-3.909421540688963, -7.163796336350065)\n",
            "(0.4744091132842376, 14.257854146830486)\n",
            "(3.14466863291336, 3.2664703661537313)\n",
            "(1.0318562796138302, 13.67662422703284)\n",
            "(0.8761706417543635, 12.57404063707232)\n",
            "(-1.1509885402733957, 13.436894195835206)\n",
            "(0.7565101416488851, 14.859288476607356)\n",
            "(-3.132704717444449, 3.3081236367340967)\n",
            "(1.1277317986860673, 13.596584816754236)\n",
            "(-4.1017563880440635, -7.821475002235993)\n",
            "(2.576039219664368, 14.181083579723474)\n",
            "(3.424602231401824, 3.5269925176080537)\n"
          ],
          "name": "stdout"
        }
      ]
    },
    {
      "cell_type": "markdown",
      "metadata": {
        "id": "Pze2ZphQMA-G"
      },
      "source": [
        "### Adding columns to our dataset corresponding to $x^2, x^3, \\ldots, x^{200}$"
      ]
    },
    {
      "cell_type": "code",
      "metadata": {
        "id": "c2XZgASOGfVv"
      },
      "source": [
        "from sklearn.preprocessing import PolynomialFeatures\n",
        "def addPoly(X,polyDegree):\n",
        "    ## TODO ##\n",
        "    #use sklearn (PolynomialFeatures method)\n",
        "    poly = PolynomialFeatures(degree=polyDegree,include_bias=False)\n",
        "    X = poly.fit_transform(X.reshape(-1,1))\n",
        "\n",
        "    return X\n",
        "X_poly=addPoly(X,200)\n"
      ],
      "execution_count": 14,
      "outputs": []
    },
    {
      "cell_type": "code",
      "metadata": {
        "id": "kKXdyM7fGzLC",
        "colab": {
          "base_uri": "https://localhost:8080/"
        },
        "outputId": "fe70365e-071c-4b0c-c532-8812e446e82c"
      },
      "source": [
        "print(X_poly.shape)\n",
        "print(X_poly[0,:])"
      ],
      "execution_count": 18,
      "outputs": [
        {
          "output_type": "stream",
          "text": [
            "(40, 200)\n",
            "[3.44421852e+000 1.18626412e+001 4.08575284e+001 1.40722256e+002\n",
            " 4.84678199e+002 1.66933763e+003 5.74956356e+003 1.98027533e+004\n",
            " 6.82050095e+004 2.34912956e+005 8.09091554e+005 2.78668811e+006\n",
            " 9.59796279e+006 3.30574811e+007 1.13857189e+008 3.92149037e+008\n",
            " 1.35064697e+009 4.65192332e+009 1.60222404e+010 5.51840971e+010\n",
            " 1.90066089e+011 6.54629143e+011 2.25468581e+012 7.76563063e+012\n",
            " 2.67465288e+013 9.21208897e+013 3.17284474e+014 1.09279706e+015\n",
            " 3.76383187e+015 1.29634594e+016 4.46489869e+016 1.53780867e+017\n",
            " 5.29654911e+017 1.82424725e+018 6.28310616e+018 2.16403906e+019\n",
            " 7.45342338e+019 2.56712188e+020 8.84172871e+020 3.04528457e+021\n",
            " 1.04886255e+022 3.61251182e+022 1.24422801e+023 4.28539315e+023\n",
            " 1.47598304e+024 5.08360812e+024 1.75090572e+025 6.03050191e+025\n",
            " 2.07703663e+026 7.15376803e+026 2.46391403e+027 8.48625832e+027\n",
            " 2.92285280e+028 1.00669437e+029 3.46727540e+029 1.19420541e+030\n",
            " 4.11310440e+030 1.41664303e+031 4.87922816e+031 1.68051280e+032\n",
            " 5.78805329e+032 1.99353203e+033 6.86615993e+033 2.36485552e+034\n",
            " 8.14507916e+034 2.80534324e+035 9.66221514e+035 3.32787803e+036\n",
            " 1.14619391e+037 3.94774230e+037 1.35968871e+038 4.68306503e+038\n",
            " 1.61294993e+039 5.55535201e+039 1.91338463e+040 6.59011475e+040\n",
            " 2.26977953e+041 7.81761667e+041 2.69255801e+042 9.27375814e+042\n",
            " 3.19408495e+043 1.10011265e+044 3.78902837e+044 1.30502417e+045\n",
            " 4.49478839e+045 1.54810334e+046 5.33200619e+046 1.83645944e+047\n",
            " 6.32516762e+047 2.17852594e+048 7.50331939e+048 2.58430716e+049\n",
            " 8.90091855e+049 3.06567085e+050 1.05588403e+051 3.63669533e+051\n",
            " 1.25255734e+052 4.31408117e+052 1.48586383e+053 5.11763970e+053\n",
            " 1.76262694e+054 6.07087234e+054 2.09094109e+055 7.20165803e+055\n",
            " 2.48040839e+056 8.54306851e+056 2.94241947e+057 1.01343356e+058\n",
            " 3.49048664e+058 1.20219987e+059 4.14063906e+059 1.42612657e+060\n",
            " 4.91189154e+060 1.69176278e+061 5.82680069e+061 2.00687748e+062\n",
            " 6.91212458e+062 2.38068674e+063 8.19960536e+063 2.82412326e+064\n",
            " 9.72689763e+064 3.35015609e+065 1.15386696e+066 3.97416996e+066\n",
            " 1.36879098e+067 4.71441522e+067 1.62374762e+068 5.59254162e+068\n",
            " 1.92619354e+069 6.63423145e+069 2.28497428e+070 7.86995072e+070\n",
            " 2.71058300e+071 9.33584015e+071 3.21546735e+072 1.10747722e+073\n",
            " 3.81439354e+073 1.31376049e+074 4.52487819e+074 1.55846692e+075\n",
            " 5.36770063e+075 1.84875339e+076 6.36751066e+076 2.19310981e+077\n",
            " 7.55354941e+077 2.60160747e+078 8.96050463e+078 3.08619360e+079\n",
            " 1.06295251e+080 3.66104073e+080 1.26094243e+081 4.34296125e+081\n",
            " 1.49581075e+082 5.15189909e+082 1.77442662e+083 6.11151303e+083\n",
            " 2.10493864e+084 7.24986862e+084 2.49701317e+085 8.60025901e+085\n",
            " 2.96211713e+086 1.02021787e+087 3.51385326e+087 1.21024785e+088\n",
            " 4.16835804e+088 1.43567360e+089 4.94477358e+089 1.70308807e+090\n",
            " 5.86580747e+090 2.02031227e+091 6.95839692e+091 2.39662395e+092\n",
            " 8.25449659e+092 2.84302900e+093 9.79201312e+093 3.37258329e+094\n",
            " 1.16159138e+095 4.00077454e+095 1.37795417e+096 4.74597528e+096\n",
            " 1.63461759e+097 5.62998018e+097 1.93908820e+098 6.67864348e+098\n",
            " 2.30027075e+099 7.92263511e+099 2.72872865e+100 9.39833775e+100\n",
            " 3.23699289e+101 1.11489108e+102 3.83992852e+102 1.32255529e+103\n",
            " 4.55516942e+103 1.56889988e+104 5.40363403e+104 1.86112964e+105\n",
            " 6.41013716e+105 2.20779131e+106 7.60411570e+106 2.61902361e+107]\n"
          ],
          "name": "stdout"
        }
      ]
    },
    {
      "cell_type": "markdown",
      "metadata": {
        "id": "S8uYLISVMA-H"
      },
      "source": [
        "## Splitting data into training and testing"
      ]
    },
    {
      "cell_type": "code",
      "metadata": {
        "id": "fVnfiOyqMNLg"
      },
      "source": [
        "from sklearn.model_selection import train_test_split\n",
        "## TODO ##\n",
        "# use sklearn (train_test_split) to split data to 80% training 20% testing\n",
        "X_train, X_test, y_train, y_test = train_test_split(X_poly,Y, test_size=0.2)"
      ],
      "execution_count": 25,
      "outputs": []
    },
    {
      "cell_type": "code",
      "metadata": {
        "id": "WmHYknzXMA-I"
      },
      "source": [
        "from sklearn.metrics import mean_squared_error\n",
        "def display_results(model):\n",
        "    coefs = [model.intercept_]\n",
        "    coefs += list(model.coef_)\n",
        "    ytrain_predict=model.predict(X_train)\n",
        "    ytest_predict=model.predict(X_test)\n",
        "    train_error=np.sqrt(mean_squared_error(y_train,ytrain_predict))\n",
        "    test_error=np.sqrt(mean_squared_error(y_test,ytest_predict))\n",
        "    print(\"Training error (rmse):\", train_error)\n",
        "    print(\"Testing error (rmse):\", test_error)\n",
        "    plt.scatter(X_train[:,0], y_train, marker='o')\n",
        "    plt.scatter(X_test[:,0], y_test, marker='^')\n",
        "    draw_polynomial(coefs)\n",
        "    plt.show()\n",
        "    print(\"Polynomial coefficients\")\n",
        "    print(coefs)"
      ],
      "execution_count": 26,
      "outputs": []
    },
    {
      "cell_type": "markdown",
      "metadata": {
        "id": "G9x4Q5S3MA-I"
      },
      "source": [
        "## Training a polynomial regression model with no regularization"
      ]
    },
    {
      "cell_type": "code",
      "metadata": {
        "id": "QKm7sV7JMA-J"
      },
      "source": [
        "from sklearn.linear_model import LinearRegression\n",
        "## TODO ##\n",
        "# use sklearn linear regression to fit the data \n",
        "# normalization trick ;)\n",
        "\n",
        "model_no_reg = LinearRegression(normalize=True).fit(X_train,y_train)"
      ],
      "execution_count": 33,
      "outputs": []
    },
    {
      "cell_type": "code",
      "metadata": {
        "id": "uje8MamakgwD",
        "colab": {
          "base_uri": "https://localhost:8080/",
          "height": 357
        },
        "outputId": "1dec339f-0365-4899-cee8-8546be966174"
      },
      "source": [
        "display_results(model_no_reg)"
      ],
      "execution_count": 34,
      "outputs": [
        {
          "output_type": "stream",
          "text": [
            "Training error (rmse): 0.3947299584079246\n",
            "Testing error (rmse): 21558612.911166474\n"
          ],
          "name": "stdout"
        },
        {
          "output_type": "display_data",
          "data": {
            "image/png": "[encoded data removed]",
            "text/plain": [
              "<Figure size 432x288 with 1 Axes>"
            ]
          },
          "metadata": {
            "tags": [],
            "needs_background": "light"
          }
        },
        {
          "output_type": "stream",
          "text": [
            "Polynomial coefficients\n",
            "[12.783306116308417, 6.8203285039734105, -128.8486264840039, 77.48203386453824, 1771.393821045362, -4048.2556395518577, 869.1787736274306, 4796.099098157414, -3121.2480311006766, -2236.4530357289195, 2196.113520223628, 483.3067788954428, -761.7059920284246, -33.05819996469089, 150.53746501972827, -5.457827662449306, -17.187051370908126, 1.1762457010131975, 1.0260067096297985, -0.061616456148762634, -0.01830070390280914, -0.001607170287121285, -0.0008129250524795574, 0.0001487041273497706, 1.4697229945124495e-05, 4.951460398708067e-06, 9.18911688727954e-07, -1.0586702061961464e-07, 5.815100103824797e-09, -1.1348961250999578e-08, -5.511783951292915e-10, -3.4194572550669856e-10, -1.3074403342390236e-11, -1.0215640010547785e-12, 4.2645276735983927e-13, 3.96168626399448e-13, 3.6067618972846907e-14, 2.2776580173900858e-14, 9.290535773500844e-16, 7.868922817411284e-16, -1.6940601505461906e-17, 1.7749054770095866e-17, -3.014579979694722e-18, 1.126239237074882e-19, -1.850761653077624e-19, -1.3481042807813401e-20, -8.210434747976092e-21, -9.06530136242268e-22, -2.933551391878687e-22, -3.790489452266521e-23, -8.41783293589121e-24, -1.2134785833932525e-24, -1.657129095991992e-25, -2.861657941360612e-26, 4.008519757550266e-28, -2.765791678490081e-28, 2.6664858665917856e-28, 2.015053941206791e-29, 1.8643580456900982e-29, 1.7724514961216265e-30, 9.709336881403878e-31, 9.645860725023754e-32, 4.426418936537037e-32, 4.387988651086055e-33, 1.8651252448005264e-33, 1.8027753038495903e-34, 7.452468321434024e-35, 6.89899109093339e-36, 2.8661495755711364e-36, 2.5042353972411163e-37, 1.0717341057931631e-37, 8.681106661426998e-39, 3.920573821724565e-39, 2.889831690232693e-40, 1.41054560145295e-40, 9.219807644564086e-42, 5.0115794494390464e-42, 2.8108996992585463e-43, 1.7624344460659318e-43, 8.104519243891889e-45, 6.155554894194519e-45, 2.1548280820771227e-46, 2.13822670630605e-46, 5.025470925597556e-48, 7.398338212887044e-48, 8.300138920012903e-50, 2.556139395247081e-49, -3.4968576548190815e-52, 8.815224257764921e-51, -1.248853345876956e-52, 3.0380188609036855e-52, -8.20418897108738e-54, 1.046439154067144e-53, -4.1459085157299774e-55, 3.604359982254558e-55, -1.8683787304690154e-56, 1.2405279465241676e-56, -7.805123530164739e-58, 4.263072636205754e-58, -3.136028034800556e-59, 1.4584213493355649e-59, -1.2181660275802281e-60, 4.983559142307277e-61, -4.565575727500914e-62, 1.6888079484041746e-62, -1.667488816529239e-63, 5.67952270352642e-64, -5.8870137992057955e-65, 1.8821796241883365e-65, -2.0361092768667876e-66, 6.102915049718318e-67, -6.645370360641019e-68, 1.936401240655729e-68, -2.0673589182213165e-69, 5.796363388432063e-70, -5.933924649201071e-71, 1.6183309637222906e-71, -1.3416065346240233e-72, 3.863999074515642e-73, -1.5745484369823535e-74, 5.939136265915827e-75, 8.152646092996721e-76, -1.3664676098389439e-76, 9.508384708368442e-77, -1.933104644212916e-77, 6.113071325564078e-78, -1.2803312705674715e-78, 3.350781645356214e-79, -7.086261270506384e-80, 1.6932983577769653e-80, -3.556747151185557e-81, 8.098635955242646e-82, -1.7194213444523114e-82, 3.786493675423995e-83, -7.929985132318582e-84, 1.7121788945915834e-84, -3.593905102314432e-85, 7.647226792142283e-86, -1.5996957693955992e-86, 3.356302415965823e-87, -6.981698592157484e-88, 1.4612733114803293e-88, -3.0159774428324246e-89, 6.310482224778123e-90, -1.2941184170463282e-90, 2.6936741977069604e-91, -5.529232009906192e-92, 1.1422038274977834e-92, -2.3442770543648693e-93, 4.825702636832633e-94, -9.888420568775069e-95, 2.0255644335935184e-95, -4.14950236591727e-96, 8.486900290929428e-97, -1.7316479830535241e-97, 3.5416878476605424e-98, -7.208324861290281e-99, 1.4744175244713147e-99, -2.9991126810842343e-100, 6.102091511969798e-101, -1.2427886035611668e-101, 2.5291166287053278e-102, -5.133249607285552e-103, 1.0404070278190266e-103, -2.1218774209475984e-104, 4.300849396976345e-105, -8.694196930441727e-106, 1.7651078535889414e-106, -3.573125694846358e-107, 7.222840484534461e-108, -1.4652923982577654e-108, 2.971436830274881e-109, -6.000660539843326e-110, 1.2166090679130226e-110, -2.4597116317478416e-111, 4.965795649589671e-112, -1.0021875573485541e-112, 2.029729703405513e-113, -4.1056544322344636e-114, 8.268477839063987e-115, -1.6696337103646343e-115, 3.372818898665823e-116, -6.814497612056169e-117, 1.3730754846531308e-117, -2.770893536962814e-118, 5.575613894762725e-119, -1.1260230948964053e-119, 2.2713904755507975e-120, -4.572828381723042e-121, 9.229810496255227e-122, -1.8591245037267453e-122, 3.73879595262306e-123, -7.535999237215915e-124, 1.5164445016203578e-124, -3.0583314028984344e-125, 6.158756882800406e-126, -1.2395926707609227e-126, 2.495684819192403e-127, -5.024813076058846e-128, 1.0120569160339955e-128, -2.0348336741297708e-129]\n"
          ],
          "name": "stdout"
        }
      ]
    },
    {
      "cell_type": "markdown",
      "metadata": {
        "id": "TLTU-3ojMA-J"
      },
      "source": [
        "## Training a polynomial regression model with L1 regularization"
      ]
    },
    {
      "cell_type": "code",
      "metadata": {
        "id": "sBfyPNvMMA-J"
      },
      "source": [
        "from sklearn import linear_model\n",
        "## TODO ##\n",
        "# use sklearn Lasso (linear regression with L1 Norm) to fit the data \n",
        "# normalization trick ;)\n",
        "\n",
        "model_L1_reg = linear_model.Lasso(alpha=.1,normalize=True).fit(X_train, y_train)"
      ],
      "execution_count": 53,
      "outputs": []
    },
    {
      "cell_type": "code",
      "metadata": {
        "id": "LOYlQsU5MA-K",
        "colab": {
          "base_uri": "https://localhost:8080/",
          "height": 357
        },
        "outputId": "0912b087-7b2a-4caf-fd8d-b936d937f69c"
      },
      "source": [
        "display_results(model_L1_reg)"
      ],
      "execution_count": 54,
      "outputs": [
        {
          "output_type": "stream",
          "text": [
            "Training error (rmse): 2.0959859676785015\n",
            "Testing error (rmse): 2.202189915756532\n"
          ],
          "name": "stdout"
        },
        {
          "output_type": "display_data",
          "data": {
            "image/png": "[encoded data removed]",
            "text/plain": [
              "<Figure size 432x288 with 1 Axes>"
            ]
          },
          "metadata": {
            "tags": [],
            "needs_background": "light"
          }
        },
        {
          "output_type": "stream",
          "text": [
            "Polynomial coefficients\n",
            "[13.858980211123033, 0.2912424119072769, -0.8813370484302516, 0.0037376926137340453, -0.0, 0.0022506529534967222, -0.0, 0.0, -0.0, 0.0, -0.0, 0.0, -0.0, 0.0, -0.0, 0.0, -0.0, 0.0, -0.0, 0.0, -0.0, 0.0, -0.0, 0.0, -0.0, 0.0, -0.0, 0.0, -0.0, 0.0, -0.0, 0.0, -0.0, 0.0, -0.0, 0.0, -0.0, 0.0, -0.0, 0.0, -0.0, 0.0, -0.0, 0.0, -0.0, 0.0, -0.0, 0.0, -0.0, 0.0, -0.0, 0.0, -0.0, 0.0, -0.0, 0.0, -0.0, 0.0, -0.0, 0.0, -0.0, 0.0, -0.0, 0.0, -0.0, 0.0, -0.0, 0.0, -0.0, 0.0, -0.0, 0.0, -0.0, 0.0, -0.0, 0.0, -0.0, 0.0, -0.0, 0.0, -0.0, 0.0, -0.0, 0.0, -0.0, 0.0, -0.0, 0.0, -0.0, 0.0, -0.0, 0.0, -0.0, 0.0, -0.0, 0.0, -0.0, 0.0, -0.0, 0.0, -0.0, 0.0, -0.0, 0.0, -0.0, 0.0, -0.0, 0.0, -0.0, 0.0, -0.0, 0.0, -0.0, 0.0, -0.0, 0.0, -0.0, 0.0, -0.0, 0.0, -0.0, 0.0, -0.0, 0.0, -0.0, 0.0, -0.0, 0.0, -0.0, 0.0, -0.0, 0.0, -0.0, 0.0, -0.0, 0.0, -0.0, 0.0, -0.0, 0.0, -0.0, 0.0, -0.0, 0.0, -0.0, 0.0, -0.0, 0.0, -0.0, 0.0, -0.0, 0.0, -0.0, 0.0, -0.0, 0.0, -0.0, 0.0, -0.0, 0.0, -0.0, 0.0, -0.0, 0.0, -0.0, 0.0, -0.0, 0.0, -0.0, 0.0, -0.0, 0.0, -0.0, 0.0, -0.0, 0.0, -0.0, 0.0, -0.0, 0.0, -0.0, 0.0, -0.0, 0.0, -0.0, 0.0, -0.0, 0.0, -0.0, 0.0, -0.0, 0.0, -0.0, 0.0, -0.0, 0.0, -0.0, 0.0, -0.0, 0.0, -0.0]\n"
          ],
          "name": "stdout"
        }
      ]
    },
    {
      "cell_type": "markdown",
      "metadata": {
        "id": "21v4zgmbMA-K"
      },
      "source": [
        "## Training a polynomial regression model with L2 regularization"
      ]
    },
    {
      "cell_type": "code",
      "metadata": {
        "id": "MrSeiPXPMA-K"
      },
      "source": [
        "from sklearn import linear_model\n",
        "## TODO ##\n",
        "# use sklearn Ridge (linear regression with L2 Norm) to fit the data \n",
        "# normalization trick ;)\n",
        "\n",
        "model_L2_reg = linear_model.Ridge(alpha=.1,normalize=True).fit(X_train, y_train)"
      ],
      "execution_count": 51,
      "outputs": []
    },
    {
      "cell_type": "code",
      "metadata": {
        "id": "TyLoFFM_MA-L",
        "colab": {
          "base_uri": "https://localhost:8080/",
          "height": 357
        },
        "outputId": "a4bd24c5-332c-4f90-d3ed-1caba6944287"
      },
      "source": [
        "display_results(model_L2_reg)"
      ],
      "execution_count": 52,
      "outputs": [
        {
          "output_type": "stream",
          "text": [
            "Training error (rmse): 2.110821605444413\n",
            "Testing error (rmse): 2.128860061917934\n"
          ],
          "name": "stdout"
        },
        {
          "output_type": "display_data",
          "data": {
            "image/png": "[encoded data removed]",
            "text/plain": [
              "<Figure size 432x288 with 1 Axes>"
            ]
          },
          "metadata": {
            "tags": [],
            "needs_background": "light"
          }
        },
        {
          "output_type": "stream",
          "text": [
            "Polynomial coefficients\n",
            "[13.230011389555889, 0.4117188071485767, -0.576734123297287, 0.01171019243814834, -0.012768096869833885, 0.0006800150393058217, -0.00024247832656545937, 3.206363756714674e-05, -3.6376261029147856e-06, 1.2105455861248574e-06, -1.971004823663282e-08, 3.928956200401911e-08, 1.6635968901199876e-09, 1.1386493318410291e-09, 1.1127709864370489e-10, 2.9575639164677436e-11, 5.175367312162101e-12, 6.580060629747992e-13, 2.151491059065324e-13, 1.0135394607267871e-14, 8.531289054990619e-15, -7.301469223725464e-17, 3.3082074968006857e-16, -1.660392016714636e-17, 1.268609692621816e-17, -1.0430117068728484e-18, 4.836773734067073e-19, -5.1801518470666136e-20, 1.8383442614304803e-20, -2.324999889947492e-21, 6.974293349196236e-22, -9.871487904974609e-23, 2.642585826947113e-23, -4.0493979672835424e-24, 1.0002456640970685e-24, -1.623306091775606e-25, 3.7821832666858255e-26, -6.4026048732312454e-27, 1.428577062865532e-27, -2.4952894595134637e-28, 5.389342771174716e-29, -9.63650723591247e-30, 2.030368354041373e-30, -3.6947288537361997e-31, 7.637512140789512e-32, -1.4082474380259834e-32, 2.868107099608212e-33, -5.34072367570419e-34, 1.0750548694756213e-34, -2.016559541161049e-35, 4.0214164501482574e-36, -7.583751137351074e-37, 1.5009142143766416e-37, -2.84132213450608e-38, 5.5881450766734234e-39, -1.0606317777418519e-39, 2.074957585227796e-40, -3.9446880449603035e-41, 7.681741145921878e-42, -1.4615610470965254e-42, 2.834509043483563e-43, -5.393707651279959e-44, 1.0420688259588885e-44, -1.9819351268589292e-45, 3.815172526355451e-46, -7.248344996756762e-47, 1.3902282960894567e-47, -2.636894290515115e-48, 5.038595575708738e-49, -9.535315526242912e-50, 1.8146990269118972e-50, -3.4241699532177636e-51, 6.487641870268287e-52, -1.2195944423276954e-52, 2.298927361999207e-53, -4.30129599847169e-54, 8.058938349875857e-55, -1.4987594513650995e-55, 2.787324985682965e-56, -5.143331237591772e-57, 9.475554414653319e-58, -1.7303611467455618e-58, 3.1481952598064363e-59, -5.666630991652999e-60, 1.013046002099744e-60, -1.785223636889082e-61, 3.1079447474398474e-62, -5.294190876368173e-63, 8.811169059087766e-64, -1.4094040819743904e-64, 2.1362437655524998e-65, -2.92140448785433e-66, 3.2222958458227906e-67, -1.2694611516804805e-68, -7.519183052970343e-69, 3.4866005284158207e-69, -1.0833076561944354e-69, 2.926458493758467e-70, -7.334040101225114e-71, 1.7580652282919838e-71, -4.0844570406474976e-72, 9.285593185392988e-73, -2.0751996052172124e-73, 4.578632501876873e-74, -9.994160559761662e-75, 2.163093578094208e-75, -4.647387885895428e-76, 9.92500459593426e-77, -2.1082970629515844e-77, 4.458459146208062e-78, -9.390292300300107e-79, 1.9709049878863285e-79, -4.123593334136784e-80, 8.603705195827982e-81, -1.7905659482506926e-81, 3.7180713950563887e-82, -7.704420142853996e-83, 1.5934993396549261e-83, -3.290104959551033e-84, 6.782436889018869e-85, -1.396126423572863e-85, 2.8700057067232356e-86, -5.8924543203811405e-87, 1.2083963542792536e-87, -2.4754397071632067e-88, 5.065946114499207e-89, -1.0357600322876026e-89, 2.1158114724317688e-90, -4.318522827354414e-91, 8.807601770277773e-92, -1.7949914280534088e-92, 3.6556880867256343e-93, -7.440351304226457e-94, 1.5133937896490985e-94, -3.0765080744509917e-95, 6.250660441562216e-96, -1.2693084025791626e-96, 2.5762849740235434e-97, -5.226564879195544e-98, 1.0598512786294604e-98, -2.14826877132371e-99, 4.3526773489252075e-100, -8.815692381947279e-101, 1.7848281206892727e-101, -3.612296704407116e-102, 7.308435954336882e-103, -1.4781746245405954e-103, 2.9887767156382105e-104, -6.04133913621273e-105, 1.2208166790596679e-105, -2.4663243568902287e-106, 4.981238283268432e-107, -1.0058108866311446e-107, 2.030446803530636e-108, -4.097955415510658e-109, 8.268888023453656e-110, -1.6681493616469067e-110, 3.364606286355919e-111, -6.784977264041561e-112, 1.3679826382332382e-112, -2.7576163574796976e-113, 5.557904770598674e-114, -1.1199924858643802e-114, 2.2565685417142003e-115, -4.5458372441379546e-116, 9.15616469207678e-117, -1.843953542565573e-117, 3.713002496049731e-118, -7.475521734368191e-119, 1.5048763355950944e-119, -3.0290406153999776e-120, 6.096158217865698e-121, -1.2267498125292855e-121, 2.4683465219598485e-122, -4.966017693053252e-123, 9.989965509101494e-124, -2.0094390065098706e-124, 4.041496867469884e-125, -8.127699707197146e-126, 1.6343775653862422e-126, -3.2862286443368284e-127, 6.607011432876748e-128, -1.3282366012277483e-128, 2.6699928392283184e-129, -5.366734833788228e-130, 1.0786403129872571e-130, -2.1677573494621616e-131, 4.3562540756258265e-132, -8.753570209832581e-133, 1.758845352289267e-133, -3.5337954882643663e-134, 7.099493403248781e-135, -1.4262194031770047e-135, 2.8649639802412697e-136, -5.754752118276705e-137, 1.1558712584959828e-137, -2.3214986164134528e-138, 4.662343025740922e-139, -9.363054069224852e-140, 1.8802215097845775e-140, -3.775542122610899e-141]\n"
          ],
          "name": "stdout"
        }
      ]
    },
    {
      "cell_type": "markdown",
      "metadata": {
        "id": "1EsLoBMqMA-L"
      },
      "source": [
        "## Viewing the predictions in the testing set"
      ]
    },
    {
      "cell_type": "code",
      "metadata": {
        "id": "TPp6zYZ6MA-L",
        "colab": {
          "base_uri": "https://localhost:8080/",
          "height": 297
        },
        "outputId": "eb39654a-0eee-47c0-ff1d-002979a2c60a"
      },
      "source": [
        "import pandas as pd\n",
        "from IPython.display import display\n",
        "predictions={}\n",
        "predictions ['x']=X_test[:,0]\n",
        "predictions ['y']=y_test\n",
        "predictions['No reg'] = model_no_reg.predict(X_test)\n",
        "predictions['L1 reg'] = model_L1_reg.predict(X_test)\n",
        "predictions['L2 reg'] = model_L2_reg.predict(X_test)\n",
        "predictions=pd.DataFrame.from_dict(predictions)\n",
        "display(predictions)"
      ],
      "execution_count": 48,
      "outputs": [
        {
          "output_type": "display_data",
          "data": {
            "text/html": [
              "<div>\n",
              "<style scoped>\n",
              "    .dataframe tbody tr th:only-of-type {\n",
              "        vertical-align: middle;\n",
              "    }\n",
              "\n",
              "    .dataframe tbody tr th {\n",
              "        vertical-align: top;\n",
              "    }\n",
              "\n",
              "    .dataframe thead th {\n",
              "        text-align: right;\n",
              "    }\n",
              "</style>\n",
              "<table border=\"1\" class=\"dataframe\">\n",
              "  <thead>\n",
              "    <tr style=\"text-align: right;\">\n",
              "      <th></th>\n",
              "      <th>x</th>\n",
              "      <th>y</th>\n",
              "      <th>No reg</th>\n",
              "      <th>L1 reg</th>\n",
              "      <th>L2 reg</th>\n",
              "    </tr>\n",
              "  </thead>\n",
              "  <tbody>\n",
              "    <tr>\n",
              "      <th>0</th>\n",
              "      <td>-1.898524</td>\n",
              "      <td>8.956020</td>\n",
              "      <td>-3.771258e+01</td>\n",
              "      <td>10.370248</td>\n",
              "      <td>10.370248</td>\n",
              "    </tr>\n",
              "    <tr>\n",
              "      <th>1</th>\n",
              "      <td>-2.395077</td>\n",
              "      <td>7.723543</td>\n",
              "      <td>-5.462181e+01</td>\n",
              "      <td>7.859845</td>\n",
              "      <td>7.859845</td>\n",
              "    </tr>\n",
              "    <tr>\n",
              "      <th>2</th>\n",
              "      <td>-0.520304</td>\n",
              "      <td>13.478608</td>\n",
              "      <td>2.073985e+02</td>\n",
              "      <td>13.794114</td>\n",
              "      <td>13.794114</td>\n",
              "    </tr>\n",
              "    <tr>\n",
              "      <th>3</th>\n",
              "      <td>-1.150989</td>\n",
              "      <td>13.436894</td>\n",
              "      <td>2.243513e+03</td>\n",
              "      <td>12.758708</td>\n",
              "      <td>12.758708</td>\n",
              "    </tr>\n",
              "    <tr>\n",
              "      <th>4</th>\n",
              "      <td>-0.234030</td>\n",
              "      <td>10.927272</td>\n",
              "      <td>1.122876e+01</td>\n",
              "      <td>14.045845</td>\n",
              "      <td>14.045845</td>\n",
              "    </tr>\n",
              "    <tr>\n",
              "      <th>5</th>\n",
              "      <td>-2.410832</td>\n",
              "      <td>4.690236</td>\n",
              "      <td>-4.531716e+01</td>\n",
              "      <td>7.766316</td>\n",
              "      <td>7.766316</td>\n",
              "    </tr>\n",
              "    <tr>\n",
              "      <th>6</th>\n",
              "      <td>-3.909422</td>\n",
              "      <td>-7.163796</td>\n",
              "      <td>-6.097600e+07</td>\n",
              "      <td>-5.145377</td>\n",
              "      <td>-5.145377</td>\n",
              "    </tr>\n",
              "    <tr>\n",
              "      <th>7</th>\n",
              "      <td>4.130111</td>\n",
              "      <td>4.299534</td>\n",
              "      <td>-3.441254e+05</td>\n",
              "      <td>3.990806</td>\n",
              "      <td>3.990806</td>\n",
              "    </tr>\n",
              "  </tbody>\n",
              "</table>\n",
              "</div>"
            ],
            "text/plain": [
              "          x          y        No reg     L1 reg     L2 reg\n",
              "0 -1.898524   8.956020 -3.771258e+01  10.370248  10.370248\n",
              "1 -2.395077   7.723543 -5.462181e+01   7.859845   7.859845\n",
              "2 -0.520304  13.478608  2.073985e+02  13.794114  13.794114\n",
              "3 -1.150989  13.436894  2.243513e+03  12.758708  12.758708\n",
              "4 -0.234030  10.927272  1.122876e+01  14.045845  14.045845\n",
              "5 -2.410832   4.690236 -4.531716e+01   7.766316   7.766316\n",
              "6 -3.909422  -7.163796 -6.097600e+07  -5.145377  -5.145377\n",
              "7  4.130111   4.299534 -3.441254e+05   3.990806   3.990806"
            ]
          },
          "metadata": {
            "tags": []
          }
        }
      ]
    },
    {
      "cell_type": "code",
      "metadata": {
        "id": "IcM_tCDC-DNt"
      },
      "source": [
        ""
      ],
      "execution_count": null,
      "outputs": []
    }
  ]
}